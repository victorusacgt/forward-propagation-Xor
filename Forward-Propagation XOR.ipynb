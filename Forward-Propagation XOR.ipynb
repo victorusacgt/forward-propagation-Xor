{
 "cells": [
  {
   "cell_type": "markdown",
   "metadata": {},
   "source": [
    "### Victor Rene Pérez Mayen\n",
    "### 19005180\n",
    "#### Tarea No.7"
   ]
  },
  {
   "cell_type": "code",
   "execution_count": 1,
   "metadata": {},
   "outputs": [],
   "source": [
    "import numpy as np\n",
    "import pandas as pd\n",
    "import matplotlib.pyplot as plt\n",
    "import pyodbc\n",
    "import random"
   ]
  },
  {
   "cell_type": "code",
   "execution_count": 47,
   "metadata": {},
   "outputs": [],
   "source": [
    "def bn_lr(x):\n",
    "    y=np.where(x >= 0, 1, 0)\n",
    "    return y\n",
    "\n",
    "def for_prop(data_x):\n",
    "    bias = np.ones((data_x.shape[0], 1))\n",
    "    data_x = np.hstack((data_x, bias))\n",
    "    hl = np.array([[10, 30, -10], [20, -20, 20], [30, 30, 10]])\n",
    "    ol = np.array([[10, 20, -30, 20]])\n",
    "    r_hl = bn_lr(np.dot(hl, data_x.T))\n",
    "    bias = np.ones((r_hl.shape[1]))\n",
    "    r_hl = np.vstack((r_hl, bias))\n",
    "    r_ol = bn_lr(np.dot(ol, r_hl))\n",
    "    return r_ol, bn_lr(np.dot(hl, data_x.T))"
   ]
  },
  {
   "cell_type": "code",
   "execution_count": 48,
   "metadata": {},
   "outputs": [
    {
     "name": "stdout",
     "output_type": "stream",
     "text": [
      "El resultado de Backpropagation sería: [[1 1 1 1]]\n"
     ]
    }
   ],
   "source": [
    "entrada = np.array([[0, 0], [0, 1], [1, 0], [1, 1]])\n",
    "resultado, hl = for_prop(entrada)\n",
    "print(\"El resultado de Backpropagation sería:\", resultado)"
   ]
  },
  {
   "cell_type": "code",
   "execution_count": 50,
   "metadata": {},
   "outputs": [
    {
     "data": {
      "text/plain": [
       "<matplotlib.legend.Legend at 0x121f034c9b0>"
      ]
     },
     "execution_count": 50,
     "metadata": {},
     "output_type": "execute_result"
    },
    {
     "data": {
      "image/png": "[encoded data removed]",
      "text/plain": [
       "<Figure size 432x288 with 1 Axes>"
      ]
     },
     "metadata": {
      "needs_background": "light"
     },
     "output_type": "display_data"
    }
   ],
   "source": [
    "for index, r in enumerate(list(resultado.reshape((-1,1)))):\n",
    "    if r == 1:\n",
    "        plt.scatter(entrada[index, 0], entrada[index, 1], marker = \"o\", color = \"g\")\n",
    "    elif r == 0:\n",
    "        plt.scatter(entrada[index, 0], entrada[index, 1], marker = \"o\", color = \"y\")\n",
    "plt.title(\"Forward Propagation\")\n",
    "plt.gca().legend((\"0\", \"1\"))"
   ]
  },
  {
   "cell_type": "code",
   "execution_count": null,
   "metadata": {},
   "outputs": [],
   "source": []
  }
 ],
 "metadata": {
  "kernelspec": {
   "display_name": "Python 3",
   "language": "python",
   "name": "python3"
  },
  "language_info": {
   "codemirror_mode": {
    "name": "ipython",
    "version": 3
   },
   "file_extension": ".py",
   "mimetype": "text/x-python",
   "name": "python",
   "nbconvert_exporter": "python",
   "pygments_lexer": "ipython3",
   "version": "3.7.1"
  }
 },
 "nbformat": 4,
 "nbformat_minor": 2
}
